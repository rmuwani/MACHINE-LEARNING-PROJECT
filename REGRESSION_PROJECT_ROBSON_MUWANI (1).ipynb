{
 "cells": [
  {
   "cell_type": "code",
   "execution_count": 1,
   "metadata": {},
   "outputs": [],
   "source": [
    "#PROJECTimport numpy as np\n",
    "import numpy as np\n",
    "import pandas as pd\n",
    "import seaborn as sns\n",
    "import matplotlib.pylab as plt\n",
    "from sklearn.preprocessing import StandardScaler,MinMaxScaler\n",
    "from sklearn.model_selection import train_test_split\n",
    "from sklearn.linear_model import LinearRegression\n",
    "from sklearn.metrics import mean_squared_error\n",
    "from sklearn.metrics import r2_score\n",
    "from sklearn.metrics import roc_auc_score\n",
    "from sklearn.model_selection import cross_val_score\n",
    "from sklearn.ensemble import AdaBoostRegressor\n",
    "from sklearn.datasets import make_regression\n",
    "from math import sqrt\n",
    "from sklearn.tree import DecisionTreeRegressor\n",
    "import warnings\n",
    "warnings.filterwarnings('ignore')"
   ]
  },
  {
   "cell_type": "code",
   "execution_count": 2,
   "metadata": {},
   "outputs": [],
   "source": [
    "df=pd.read_csv('energydata_complete.csv')"
   ]
  },
  {
   "cell_type": "code",
   "execution_count": 3,
   "metadata": {},
   "outputs": [
    {
     "data": {
      "text/plain": [
       "(19735, 29)"
      ]
     },
     "execution_count": 3,
     "metadata": {},
     "output_type": "execute_result"
    }
   ],
   "source": [
    "df.shape"
   ]
  },
  {
   "cell_type": "code",
   "execution_count": 4,
   "metadata": {},
   "outputs": [],
   "source": [
    "#random shuffling to remove any bias in correlation-randomize the data index\n",
    "shuffle_to_index = 19000\n",
    "df = pd.concat([df.iloc[np.random.permutation(range(shuffle_to_index))], df.iloc[shuffle_to_index:]])"
   ]
  },
  {
   "cell_type": "code",
   "execution_count": 6,
   "metadata": {},
   "outputs": [
    {
     "data": {
      "text/html": [
       "<div>\n",
       "<style scoped>\n",
       "    .dataframe tbody tr th:only-of-type {\n",
       "        vertical-align: middle;\n",
       "    }\n",
       "\n",
       "    .dataframe tbody tr th {\n",
       "        vertical-align: top;\n",
       "    }\n",
       "\n",
       "    .dataframe thead th {\n",
       "        text-align: right;\n",
       "    }\n",
       "</style>\n",
       "<table border=\"1\" class=\"dataframe\">\n",
       "  <thead>\n",
       "    <tr style=\"text-align: right;\">\n",
       "      <th></th>\n",
       "      <th>date</th>\n",
       "      <th>Appliances</th>\n",
       "      <th>lights</th>\n",
       "      <th>T1</th>\n",
       "      <th>RH_1</th>\n",
       "      <th>T2</th>\n",
       "      <th>RH_2</th>\n",
       "      <th>T3</th>\n",
       "      <th>RH_3</th>\n",
       "      <th>T4</th>\n",
       "      <th>...</th>\n",
       "      <th>T9</th>\n",
       "      <th>RH_9</th>\n",
       "      <th>T_out</th>\n",
       "      <th>Press_mm_hg</th>\n",
       "      <th>RH_out</th>\n",
       "      <th>Windspeed</th>\n",
       "      <th>Visibility</th>\n",
       "      <th>Tdewpoint</th>\n",
       "      <th>rv1</th>\n",
       "      <th>rv2</th>\n",
       "    </tr>\n",
       "  </thead>\n",
       "  <tbody>\n",
       "    <tr>\n",
       "      <td>886</td>\n",
       "      <td>1/17/2016 20:40</td>\n",
       "      <td>100</td>\n",
       "      <td>20</td>\n",
       "      <td>22.426667</td>\n",
       "      <td>40.393333</td>\n",
       "      <td>20.89</td>\n",
       "      <td>39.333333</td>\n",
       "      <td>21.000000</td>\n",
       "      <td>40.466667</td>\n",
       "      <td>21.166667</td>\n",
       "      <td>...</td>\n",
       "      <td>17.890000</td>\n",
       "      <td>38.290000</td>\n",
       "      <td>-1.400</td>\n",
       "      <td>764.60</td>\n",
       "      <td>77.666667</td>\n",
       "      <td>2.666667</td>\n",
       "      <td>30.666667</td>\n",
       "      <td>-4.87</td>\n",
       "      <td>40.155952</td>\n",
       "      <td>40.155952</td>\n",
       "    </tr>\n",
       "    <tr>\n",
       "      <td>9690</td>\n",
       "      <td>3/19/2016 0:00</td>\n",
       "      <td>60</td>\n",
       "      <td>0</td>\n",
       "      <td>22.390000</td>\n",
       "      <td>36.400000</td>\n",
       "      <td>19.70</td>\n",
       "      <td>39.126667</td>\n",
       "      <td>21.790000</td>\n",
       "      <td>36.260000</td>\n",
       "      <td>20.200000</td>\n",
       "      <td>...</td>\n",
       "      <td>19.600000</td>\n",
       "      <td>37.760000</td>\n",
       "      <td>5.300</td>\n",
       "      <td>762.50</td>\n",
       "      <td>88.000000</td>\n",
       "      <td>3.000000</td>\n",
       "      <td>62.000000</td>\n",
       "      <td>3.50</td>\n",
       "      <td>43.328044</td>\n",
       "      <td>43.328044</td>\n",
       "    </tr>\n",
       "    <tr>\n",
       "      <td>1254</td>\n",
       "      <td>1/20/2016 10:00</td>\n",
       "      <td>90</td>\n",
       "      <td>10</td>\n",
       "      <td>18.260000</td>\n",
       "      <td>39.833333</td>\n",
       "      <td>16.89</td>\n",
       "      <td>39.260000</td>\n",
       "      <td>18.500000</td>\n",
       "      <td>38.000000</td>\n",
       "      <td>16.890000</td>\n",
       "      <td>...</td>\n",
       "      <td>15.890000</td>\n",
       "      <td>36.400000</td>\n",
       "      <td>-2.000</td>\n",
       "      <td>760.00</td>\n",
       "      <td>89.000000</td>\n",
       "      <td>2.000000</td>\n",
       "      <td>58.000000</td>\n",
       "      <td>-3.60</td>\n",
       "      <td>20.132955</td>\n",
       "      <td>20.132955</td>\n",
       "    </tr>\n",
       "    <tr>\n",
       "      <td>749</td>\n",
       "      <td>1/16/2016 21:50</td>\n",
       "      <td>190</td>\n",
       "      <td>20</td>\n",
       "      <td>23.260000</td>\n",
       "      <td>38.363333</td>\n",
       "      <td>22.10</td>\n",
       "      <td>37.900000</td>\n",
       "      <td>22.066667</td>\n",
       "      <td>41.966667</td>\n",
       "      <td>21.100000</td>\n",
       "      <td>...</td>\n",
       "      <td>17.700000</td>\n",
       "      <td>39.900000</td>\n",
       "      <td>0.483</td>\n",
       "      <td>764.85</td>\n",
       "      <td>97.666667</td>\n",
       "      <td>2.500000</td>\n",
       "      <td>21.500000</td>\n",
       "      <td>0.15</td>\n",
       "      <td>33.790406</td>\n",
       "      <td>33.790406</td>\n",
       "    </tr>\n",
       "    <tr>\n",
       "      <td>2083</td>\n",
       "      <td>1/26/2016 4:10</td>\n",
       "      <td>50</td>\n",
       "      <td>0</td>\n",
       "      <td>20.633333</td>\n",
       "      <td>43.933333</td>\n",
       "      <td>19.89</td>\n",
       "      <td>43.400000</td>\n",
       "      <td>20.600000</td>\n",
       "      <td>44.290000</td>\n",
       "      <td>19.790000</td>\n",
       "      <td>...</td>\n",
       "      <td>17.066667</td>\n",
       "      <td>48.863333</td>\n",
       "      <td>7.920</td>\n",
       "      <td>764.05</td>\n",
       "      <td>93.166667</td>\n",
       "      <td>2.833333</td>\n",
       "      <td>29.000000</td>\n",
       "      <td>6.93</td>\n",
       "      <td>15.409150</td>\n",
       "      <td>15.409150</td>\n",
       "    </tr>\n",
       "  </tbody>\n",
       "</table>\n",
       "<p>5 rows × 29 columns</p>\n",
       "</div>"
      ],
      "text/plain": [
       "                 date  Appliances  lights         T1       RH_1     T2  \\\n",
       "886   1/17/2016 20:40         100      20  22.426667  40.393333  20.89   \n",
       "9690   3/19/2016 0:00          60       0  22.390000  36.400000  19.70   \n",
       "1254  1/20/2016 10:00          90      10  18.260000  39.833333  16.89   \n",
       "749   1/16/2016 21:50         190      20  23.260000  38.363333  22.10   \n",
       "2083   1/26/2016 4:10          50       0  20.633333  43.933333  19.89   \n",
       "\n",
       "           RH_2         T3       RH_3         T4  ...         T9       RH_9  \\\n",
       "886   39.333333  21.000000  40.466667  21.166667  ...  17.890000  38.290000   \n",
       "9690  39.126667  21.790000  36.260000  20.200000  ...  19.600000  37.760000   \n",
       "1254  39.260000  18.500000  38.000000  16.890000  ...  15.890000  36.400000   \n",
       "749   37.900000  22.066667  41.966667  21.100000  ...  17.700000  39.900000   \n",
       "2083  43.400000  20.600000  44.290000  19.790000  ...  17.066667  48.863333   \n",
       "\n",
       "      T_out  Press_mm_hg     RH_out  Windspeed  Visibility  Tdewpoint  \\\n",
       "886  -1.400       764.60  77.666667   2.666667   30.666667      -4.87   \n",
       "9690  5.300       762.50  88.000000   3.000000   62.000000       3.50   \n",
       "1254 -2.000       760.00  89.000000   2.000000   58.000000      -3.60   \n",
       "749   0.483       764.85  97.666667   2.500000   21.500000       0.15   \n",
       "2083  7.920       764.05  93.166667   2.833333   29.000000       6.93   \n",
       "\n",
       "            rv1        rv2  \n",
       "886   40.155952  40.155952  \n",
       "9690  43.328044  43.328044  \n",
       "1254  20.132955  20.132955  \n",
       "749   33.790406  33.790406  \n",
       "2083  15.409150  15.409150  \n",
       "\n",
       "[5 rows x 29 columns]"
      ]
     },
     "execution_count": 6,
     "metadata": {},
     "output_type": "execute_result"
    }
   ],
   "source": [
    "df.head()"
   ]
  },
  {
   "cell_type": "code",
   "execution_count": 7,
   "metadata": {},
   "outputs": [
    {
     "data": {
      "text/html": [
       "<div>\n",
       "<style scoped>\n",
       "    .dataframe tbody tr th:only-of-type {\n",
       "        vertical-align: middle;\n",
       "    }\n",
       "\n",
       "    .dataframe tbody tr th {\n",
       "        vertical-align: top;\n",
       "    }\n",
       "\n",
       "    .dataframe thead th {\n",
       "        text-align: right;\n",
       "    }\n",
       "</style>\n",
       "<table border=\"1\" class=\"dataframe\">\n",
       "  <thead>\n",
       "    <tr style=\"text-align: right;\">\n",
       "      <th></th>\n",
       "      <th>date</th>\n",
       "      <th>Appliances</th>\n",
       "      <th>lights</th>\n",
       "      <th>T1</th>\n",
       "      <th>RH_1</th>\n",
       "      <th>T2</th>\n",
       "      <th>RH_2</th>\n",
       "      <th>T3</th>\n",
       "      <th>RH_3</th>\n",
       "      <th>T4</th>\n",
       "      <th>...</th>\n",
       "      <th>T9</th>\n",
       "      <th>RH_9</th>\n",
       "      <th>T_out</th>\n",
       "      <th>Press_mm_hg</th>\n",
       "      <th>RH_out</th>\n",
       "      <th>Windspeed</th>\n",
       "      <th>Visibility</th>\n",
       "      <th>Tdewpoint</th>\n",
       "      <th>rv1</th>\n",
       "      <th>rv2</th>\n",
       "    </tr>\n",
       "  </thead>\n",
       "  <tbody>\n",
       "    <tr>\n",
       "      <td>886</td>\n",
       "      <td>1/17/2016 20:40</td>\n",
       "      <td>100</td>\n",
       "      <td>20</td>\n",
       "      <td>22.426667</td>\n",
       "      <td>40.393333</td>\n",
       "      <td>20.89</td>\n",
       "      <td>39.333333</td>\n",
       "      <td>21.000000</td>\n",
       "      <td>40.466667</td>\n",
       "      <td>21.166667</td>\n",
       "      <td>...</td>\n",
       "      <td>17.890000</td>\n",
       "      <td>38.290000</td>\n",
       "      <td>-1.400</td>\n",
       "      <td>764.60</td>\n",
       "      <td>77.666667</td>\n",
       "      <td>2.666667</td>\n",
       "      <td>30.666667</td>\n",
       "      <td>-4.87</td>\n",
       "      <td>40.155952</td>\n",
       "      <td>40.155952</td>\n",
       "    </tr>\n",
       "    <tr>\n",
       "      <td>9690</td>\n",
       "      <td>3/19/2016 0:00</td>\n",
       "      <td>60</td>\n",
       "      <td>0</td>\n",
       "      <td>22.390000</td>\n",
       "      <td>36.400000</td>\n",
       "      <td>19.70</td>\n",
       "      <td>39.126667</td>\n",
       "      <td>21.790000</td>\n",
       "      <td>36.260000</td>\n",
       "      <td>20.200000</td>\n",
       "      <td>...</td>\n",
       "      <td>19.600000</td>\n",
       "      <td>37.760000</td>\n",
       "      <td>5.300</td>\n",
       "      <td>762.50</td>\n",
       "      <td>88.000000</td>\n",
       "      <td>3.000000</td>\n",
       "      <td>62.000000</td>\n",
       "      <td>3.50</td>\n",
       "      <td>43.328044</td>\n",
       "      <td>43.328044</td>\n",
       "    </tr>\n",
       "    <tr>\n",
       "      <td>1254</td>\n",
       "      <td>1/20/2016 10:00</td>\n",
       "      <td>90</td>\n",
       "      <td>10</td>\n",
       "      <td>18.260000</td>\n",
       "      <td>39.833333</td>\n",
       "      <td>16.89</td>\n",
       "      <td>39.260000</td>\n",
       "      <td>18.500000</td>\n",
       "      <td>38.000000</td>\n",
       "      <td>16.890000</td>\n",
       "      <td>...</td>\n",
       "      <td>15.890000</td>\n",
       "      <td>36.400000</td>\n",
       "      <td>-2.000</td>\n",
       "      <td>760.00</td>\n",
       "      <td>89.000000</td>\n",
       "      <td>2.000000</td>\n",
       "      <td>58.000000</td>\n",
       "      <td>-3.60</td>\n",
       "      <td>20.132955</td>\n",
       "      <td>20.132955</td>\n",
       "    </tr>\n",
       "    <tr>\n",
       "      <td>749</td>\n",
       "      <td>1/16/2016 21:50</td>\n",
       "      <td>190</td>\n",
       "      <td>20</td>\n",
       "      <td>23.260000</td>\n",
       "      <td>38.363333</td>\n",
       "      <td>22.10</td>\n",
       "      <td>37.900000</td>\n",
       "      <td>22.066667</td>\n",
       "      <td>41.966667</td>\n",
       "      <td>21.100000</td>\n",
       "      <td>...</td>\n",
       "      <td>17.700000</td>\n",
       "      <td>39.900000</td>\n",
       "      <td>0.483</td>\n",
       "      <td>764.85</td>\n",
       "      <td>97.666667</td>\n",
       "      <td>2.500000</td>\n",
       "      <td>21.500000</td>\n",
       "      <td>0.15</td>\n",
       "      <td>33.790406</td>\n",
       "      <td>33.790406</td>\n",
       "    </tr>\n",
       "    <tr>\n",
       "      <td>2083</td>\n",
       "      <td>1/26/2016 4:10</td>\n",
       "      <td>50</td>\n",
       "      <td>0</td>\n",
       "      <td>20.633333</td>\n",
       "      <td>43.933333</td>\n",
       "      <td>19.89</td>\n",
       "      <td>43.400000</td>\n",
       "      <td>20.600000</td>\n",
       "      <td>44.290000</td>\n",
       "      <td>19.790000</td>\n",
       "      <td>...</td>\n",
       "      <td>17.066667</td>\n",
       "      <td>48.863333</td>\n",
       "      <td>7.920</td>\n",
       "      <td>764.05</td>\n",
       "      <td>93.166667</td>\n",
       "      <td>2.833333</td>\n",
       "      <td>29.000000</td>\n",
       "      <td>6.93</td>\n",
       "      <td>15.409150</td>\n",
       "      <td>15.409150</td>\n",
       "    </tr>\n",
       "  </tbody>\n",
       "</table>\n",
       "<p>5 rows × 29 columns</p>\n",
       "</div>"
      ],
      "text/plain": [
       "                 date  Appliances  lights         T1       RH_1     T2  \\\n",
       "886   1/17/2016 20:40         100      20  22.426667  40.393333  20.89   \n",
       "9690   3/19/2016 0:00          60       0  22.390000  36.400000  19.70   \n",
       "1254  1/20/2016 10:00          90      10  18.260000  39.833333  16.89   \n",
       "749   1/16/2016 21:50         190      20  23.260000  38.363333  22.10   \n",
       "2083   1/26/2016 4:10          50       0  20.633333  43.933333  19.89   \n",
       "\n",
       "           RH_2         T3       RH_3         T4  ...         T9       RH_9  \\\n",
       "886   39.333333  21.000000  40.466667  21.166667  ...  17.890000  38.290000   \n",
       "9690  39.126667  21.790000  36.260000  20.200000  ...  19.600000  37.760000   \n",
       "1254  39.260000  18.500000  38.000000  16.890000  ...  15.890000  36.400000   \n",
       "749   37.900000  22.066667  41.966667  21.100000  ...  17.700000  39.900000   \n",
       "2083  43.400000  20.600000  44.290000  19.790000  ...  17.066667  48.863333   \n",
       "\n",
       "      T_out  Press_mm_hg     RH_out  Windspeed  Visibility  Tdewpoint  \\\n",
       "886  -1.400       764.60  77.666667   2.666667   30.666667      -4.87   \n",
       "9690  5.300       762.50  88.000000   3.000000   62.000000       3.50   \n",
       "1254 -2.000       760.00  89.000000   2.000000   58.000000      -3.60   \n",
       "749   0.483       764.85  97.666667   2.500000   21.500000       0.15   \n",
       "2083  7.920       764.05  93.166667   2.833333   29.000000       6.93   \n",
       "\n",
       "            rv1        rv2  \n",
       "886   40.155952  40.155952  \n",
       "9690  43.328044  43.328044  \n",
       "1254  20.132955  20.132955  \n",
       "749   33.790406  33.790406  \n",
       "2083  15.409150  15.409150  \n",
       "\n",
       "[5 rows x 29 columns]"
      ]
     },
     "execution_count": 7,
     "metadata": {},
     "output_type": "execute_result"
    }
   ],
   "source": [
    "df.head()"
   ]
  },
  {
   "cell_type": "code",
   "execution_count": 8,
   "metadata": {},
   "outputs": [],
   "source": [
    "#drop irrelevant columns\n",
    "df.drop(['date','lights',],axis=1,inplace=True)"
   ]
  },
  {
   "cell_type": "code",
   "execution_count": 9,
   "metadata": {},
   "outputs": [
    {
     "data": {
      "text/html": [
       "<div>\n",
       "<style scoped>\n",
       "    .dataframe tbody tr th:only-of-type {\n",
       "        vertical-align: middle;\n",
       "    }\n",
       "\n",
       "    .dataframe tbody tr th {\n",
       "        vertical-align: top;\n",
       "    }\n",
       "\n",
       "    .dataframe thead th {\n",
       "        text-align: right;\n",
       "    }\n",
       "</style>\n",
       "<table border=\"1\" class=\"dataframe\">\n",
       "  <thead>\n",
       "    <tr style=\"text-align: right;\">\n",
       "      <th></th>\n",
       "      <th>Appliances</th>\n",
       "      <th>T1</th>\n",
       "      <th>RH_1</th>\n",
       "      <th>T2</th>\n",
       "      <th>RH_2</th>\n",
       "      <th>T3</th>\n",
       "      <th>RH_3</th>\n",
       "      <th>T4</th>\n",
       "      <th>RH_4</th>\n",
       "      <th>T5</th>\n",
       "      <th>...</th>\n",
       "      <th>T9</th>\n",
       "      <th>RH_9</th>\n",
       "      <th>T_out</th>\n",
       "      <th>Press_mm_hg</th>\n",
       "      <th>RH_out</th>\n",
       "      <th>Windspeed</th>\n",
       "      <th>Visibility</th>\n",
       "      <th>Tdewpoint</th>\n",
       "      <th>rv1</th>\n",
       "      <th>rv2</th>\n",
       "    </tr>\n",
       "  </thead>\n",
       "  <tbody>\n",
       "    <tr>\n",
       "      <td>886</td>\n",
       "      <td>100</td>\n",
       "      <td>22.426667</td>\n",
       "      <td>40.393333</td>\n",
       "      <td>20.89</td>\n",
       "      <td>39.333333</td>\n",
       "      <td>21.000000</td>\n",
       "      <td>40.466667</td>\n",
       "      <td>21.166667</td>\n",
       "      <td>37.656667</td>\n",
       "      <td>20.700000</td>\n",
       "      <td>...</td>\n",
       "      <td>17.890000</td>\n",
       "      <td>38.290000</td>\n",
       "      <td>-1.400</td>\n",
       "      <td>764.60</td>\n",
       "      <td>77.666667</td>\n",
       "      <td>2.666667</td>\n",
       "      <td>30.666667</td>\n",
       "      <td>-4.87</td>\n",
       "      <td>40.155952</td>\n",
       "      <td>40.155952</td>\n",
       "    </tr>\n",
       "    <tr>\n",
       "      <td>9690</td>\n",
       "      <td>60</td>\n",
       "      <td>22.390000</td>\n",
       "      <td>36.400000</td>\n",
       "      <td>19.70</td>\n",
       "      <td>39.126667</td>\n",
       "      <td>21.790000</td>\n",
       "      <td>36.260000</td>\n",
       "      <td>20.200000</td>\n",
       "      <td>34.626667</td>\n",
       "      <td>18.463333</td>\n",
       "      <td>...</td>\n",
       "      <td>19.600000</td>\n",
       "      <td>37.760000</td>\n",
       "      <td>5.300</td>\n",
       "      <td>762.50</td>\n",
       "      <td>88.000000</td>\n",
       "      <td>3.000000</td>\n",
       "      <td>62.000000</td>\n",
       "      <td>3.50</td>\n",
       "      <td>43.328044</td>\n",
       "      <td>43.328044</td>\n",
       "    </tr>\n",
       "    <tr>\n",
       "      <td>1254</td>\n",
       "      <td>90</td>\n",
       "      <td>18.260000</td>\n",
       "      <td>39.833333</td>\n",
       "      <td>16.89</td>\n",
       "      <td>39.260000</td>\n",
       "      <td>18.500000</td>\n",
       "      <td>38.000000</td>\n",
       "      <td>16.890000</td>\n",
       "      <td>36.500000</td>\n",
       "      <td>18.993333</td>\n",
       "      <td>...</td>\n",
       "      <td>15.890000</td>\n",
       "      <td>36.400000</td>\n",
       "      <td>-2.000</td>\n",
       "      <td>760.00</td>\n",
       "      <td>89.000000</td>\n",
       "      <td>2.000000</td>\n",
       "      <td>58.000000</td>\n",
       "      <td>-3.60</td>\n",
       "      <td>20.132955</td>\n",
       "      <td>20.132955</td>\n",
       "    </tr>\n",
       "    <tr>\n",
       "      <td>749</td>\n",
       "      <td>190</td>\n",
       "      <td>23.260000</td>\n",
       "      <td>38.363333</td>\n",
       "      <td>22.10</td>\n",
       "      <td>37.900000</td>\n",
       "      <td>22.066667</td>\n",
       "      <td>41.966667</td>\n",
       "      <td>21.100000</td>\n",
       "      <td>40.060000</td>\n",
       "      <td>18.790000</td>\n",
       "      <td>...</td>\n",
       "      <td>17.700000</td>\n",
       "      <td>39.900000</td>\n",
       "      <td>0.483</td>\n",
       "      <td>764.85</td>\n",
       "      <td>97.666667</td>\n",
       "      <td>2.500000</td>\n",
       "      <td>21.500000</td>\n",
       "      <td>0.15</td>\n",
       "      <td>33.790406</td>\n",
       "      <td>33.790406</td>\n",
       "    </tr>\n",
       "    <tr>\n",
       "      <td>2083</td>\n",
       "      <td>50</td>\n",
       "      <td>20.633333</td>\n",
       "      <td>43.933333</td>\n",
       "      <td>19.89</td>\n",
       "      <td>43.400000</td>\n",
       "      <td>20.600000</td>\n",
       "      <td>44.290000</td>\n",
       "      <td>19.790000</td>\n",
       "      <td>45.433333</td>\n",
       "      <td>17.700000</td>\n",
       "      <td>...</td>\n",
       "      <td>17.066667</td>\n",
       "      <td>48.863333</td>\n",
       "      <td>7.920</td>\n",
       "      <td>764.05</td>\n",
       "      <td>93.166667</td>\n",
       "      <td>2.833333</td>\n",
       "      <td>29.000000</td>\n",
       "      <td>6.93</td>\n",
       "      <td>15.409150</td>\n",
       "      <td>15.409150</td>\n",
       "    </tr>\n",
       "  </tbody>\n",
       "</table>\n",
       "<p>5 rows × 27 columns</p>\n",
       "</div>"
      ],
      "text/plain": [
       "      Appliances         T1       RH_1     T2       RH_2         T3  \\\n",
       "886          100  22.426667  40.393333  20.89  39.333333  21.000000   \n",
       "9690          60  22.390000  36.400000  19.70  39.126667  21.790000   \n",
       "1254          90  18.260000  39.833333  16.89  39.260000  18.500000   \n",
       "749          190  23.260000  38.363333  22.10  37.900000  22.066667   \n",
       "2083          50  20.633333  43.933333  19.89  43.400000  20.600000   \n",
       "\n",
       "           RH_3         T4       RH_4         T5  ...         T9       RH_9  \\\n",
       "886   40.466667  21.166667  37.656667  20.700000  ...  17.890000  38.290000   \n",
       "9690  36.260000  20.200000  34.626667  18.463333  ...  19.600000  37.760000   \n",
       "1254  38.000000  16.890000  36.500000  18.993333  ...  15.890000  36.400000   \n",
       "749   41.966667  21.100000  40.060000  18.790000  ...  17.700000  39.900000   \n",
       "2083  44.290000  19.790000  45.433333  17.700000  ...  17.066667  48.863333   \n",
       "\n",
       "      T_out  Press_mm_hg     RH_out  Windspeed  Visibility  Tdewpoint  \\\n",
       "886  -1.400       764.60  77.666667   2.666667   30.666667      -4.87   \n",
       "9690  5.300       762.50  88.000000   3.000000   62.000000       3.50   \n",
       "1254 -2.000       760.00  89.000000   2.000000   58.000000      -3.60   \n",
       "749   0.483       764.85  97.666667   2.500000   21.500000       0.15   \n",
       "2083  7.920       764.05  93.166667   2.833333   29.000000       6.93   \n",
       "\n",
       "            rv1        rv2  \n",
       "886   40.155952  40.155952  \n",
       "9690  43.328044  43.328044  \n",
       "1254  20.132955  20.132955  \n",
       "749   33.790406  33.790406  \n",
       "2083  15.409150  15.409150  \n",
       "\n",
       "[5 rows x 27 columns]"
      ]
     },
     "execution_count": 9,
     "metadata": {},
     "output_type": "execute_result"
    }
   ],
   "source": [
    "df.head()"
   ]
  },
  {
   "cell_type": "code",
   "execution_count": 10,
   "metadata": {},
   "outputs": [
    {
     "data": {
      "text/plain": [
       "<matplotlib.axes._subplots.AxesSubplot at 0x1337a76ff08>"
      ]
     },
     "execution_count": 10,
     "metadata": {},
     "output_type": "execute_result"
    },
    {
     "data": {
      "image/png": "[encoded data removed]",
      "text/plain": [
       "<Figure size 432x288 with 2 Axes>"
      ]
     },
     "metadata": {
      "needs_background": "light"
     },
     "output_type": "display_data"
    }
   ],
   "source": [
    "sns.heatmap(df.corr(),vmin=-1,vmax=1)"
   ]
  },
  {
   "cell_type": "code",
   "execution_count": 11,
   "metadata": {},
   "outputs": [
    {
     "data": {
      "text/html": [
       "<div>\n",
       "<style scoped>\n",
       "    .dataframe tbody tr th:only-of-type {\n",
       "        vertical-align: middle;\n",
       "    }\n",
       "\n",
       "    .dataframe tbody tr th {\n",
       "        vertical-align: top;\n",
       "    }\n",
       "\n",
       "    .dataframe thead th {\n",
       "        text-align: right;\n",
       "    }\n",
       "</style>\n",
       "<table border=\"1\" class=\"dataframe\">\n",
       "  <thead>\n",
       "    <tr style=\"text-align: right;\">\n",
       "      <th></th>\n",
       "      <th>Appliances</th>\n",
       "      <th>T1</th>\n",
       "      <th>RH_1</th>\n",
       "      <th>T2</th>\n",
       "      <th>RH_2</th>\n",
       "      <th>T3</th>\n",
       "      <th>RH_3</th>\n",
       "      <th>T4</th>\n",
       "      <th>RH_4</th>\n",
       "      <th>T5</th>\n",
       "      <th>...</th>\n",
       "      <th>T9</th>\n",
       "      <th>RH_9</th>\n",
       "      <th>T_out</th>\n",
       "      <th>Press_mm_hg</th>\n",
       "      <th>RH_out</th>\n",
       "      <th>Windspeed</th>\n",
       "      <th>Visibility</th>\n",
       "      <th>Tdewpoint</th>\n",
       "      <th>rv1</th>\n",
       "      <th>rv2</th>\n",
       "    </tr>\n",
       "  </thead>\n",
       "  <tbody>\n",
       "    <tr>\n",
       "      <td>Appliances</td>\n",
       "      <td>1.000000</td>\n",
       "      <td>0.173869</td>\n",
       "      <td>0.041802</td>\n",
       "      <td>0.214549</td>\n",
       "      <td>-0.082822</td>\n",
       "      <td>0.153314</td>\n",
       "      <td>-0.041124</td>\n",
       "      <td>0.145514</td>\n",
       "      <td>-0.013776</td>\n",
       "      <td>0.133212</td>\n",
       "      <td>...</td>\n",
       "      <td>0.117577</td>\n",
       "      <td>-0.115478</td>\n",
       "      <td>0.150849</td>\n",
       "      <td>-0.068617</td>\n",
       "      <td>-0.188432</td>\n",
       "      <td>0.082784</td>\n",
       "      <td>-0.002834</td>\n",
       "      <td>0.052123</td>\n",
       "      <td>-0.006543</td>\n",
       "      <td>-0.006543</td>\n",
       "    </tr>\n",
       "    <tr>\n",
       "      <td>T1</td>\n",
       "      <td>0.173869</td>\n",
       "      <td>1.000000</td>\n",
       "      <td>0.094225</td>\n",
       "      <td>0.657760</td>\n",
       "      <td>0.000107</td>\n",
       "      <td>0.698082</td>\n",
       "      <td>-0.010292</td>\n",
       "      <td>0.656698</td>\n",
       "      <td>0.077916</td>\n",
       "      <td>0.685181</td>\n",
       "      <td>...</td>\n",
       "      <td>0.621499</td>\n",
       "      <td>0.041627</td>\n",
       "      <td>0.470995</td>\n",
       "      <td>-0.090415</td>\n",
       "      <td>-0.203084</td>\n",
       "      <td>-0.041053</td>\n",
       "      <td>-0.026189</td>\n",
       "      <td>0.382614</td>\n",
       "      <td>-0.005127</td>\n",
       "      <td>-0.005127</td>\n",
       "    </tr>\n",
       "    <tr>\n",
       "      <td>RH_1</td>\n",
       "      <td>0.041802</td>\n",
       "      <td>0.094225</td>\n",
       "      <td>1.000000</td>\n",
       "      <td>0.197266</td>\n",
       "      <td>0.609414</td>\n",
       "      <td>0.124938</td>\n",
       "      <td>0.673903</td>\n",
       "      <td>0.041207</td>\n",
       "      <td>0.728573</td>\n",
       "      <td>0.108559</td>\n",
       "      <td>...</td>\n",
       "      <td>0.033867</td>\n",
       "      <td>0.558051</td>\n",
       "      <td>0.257108</td>\n",
       "      <td>-0.218106</td>\n",
       "      <td>0.157316</td>\n",
       "      <td>0.140399</td>\n",
       "      <td>-0.012261</td>\n",
       "      <td>0.448601</td>\n",
       "      <td>-0.000889</td>\n",
       "      <td>-0.000889</td>\n",
       "    </tr>\n",
       "    <tr>\n",
       "      <td>T2</td>\n",
       "      <td>0.214549</td>\n",
       "      <td>0.657760</td>\n",
       "      <td>0.197266</td>\n",
       "      <td>1.000000</td>\n",
       "      <td>-0.058473</td>\n",
       "      <td>0.507287</td>\n",
       "      <td>0.100676</td>\n",
       "      <td>0.527505</td>\n",
       "      <td>0.184335</td>\n",
       "      <td>0.498218</td>\n",
       "      <td>...</td>\n",
       "      <td>0.431003</td>\n",
       "      <td>0.106905</td>\n",
       "      <td>0.559839</td>\n",
       "      <td>-0.100214</td>\n",
       "      <td>-0.290690</td>\n",
       "      <td>0.088018</td>\n",
       "      <td>-0.020667</td>\n",
       "      <td>0.388972</td>\n",
       "      <td>-0.006898</td>\n",
       "      <td>-0.006898</td>\n",
       "    </tr>\n",
       "    <tr>\n",
       "      <td>RH_2</td>\n",
       "      <td>-0.082822</td>\n",
       "      <td>0.000107</td>\n",
       "      <td>0.609414</td>\n",
       "      <td>-0.058473</td>\n",
       "      <td>1.000000</td>\n",
       "      <td>0.083263</td>\n",
       "      <td>0.506421</td>\n",
       "      <td>-0.032317</td>\n",
       "      <td>0.541701</td>\n",
       "      <td>0.076147</td>\n",
       "      <td>...</td>\n",
       "      <td>0.021696</td>\n",
       "      <td>0.493517</td>\n",
       "      <td>0.115948</td>\n",
       "      <td>-0.173817</td>\n",
       "      <td>0.337718</td>\n",
       "      <td>0.048886</td>\n",
       "      <td>-0.011771</td>\n",
       "      <td>0.373408</td>\n",
       "      <td>0.004961</td>\n",
       "      <td>0.004961</td>\n",
       "    </tr>\n",
       "    <tr>\n",
       "      <td>T3</td>\n",
       "      <td>0.153314</td>\n",
       "      <td>0.698082</td>\n",
       "      <td>0.124938</td>\n",
       "      <td>0.507287</td>\n",
       "      <td>0.083263</td>\n",
       "      <td>1.000000</td>\n",
       "      <td>-0.018518</td>\n",
       "      <td>0.628428</td>\n",
       "      <td>0.071963</td>\n",
       "      <td>0.711661</td>\n",
       "      <td>...</td>\n",
       "      <td>0.725287</td>\n",
       "      <td>0.071472</td>\n",
       "      <td>0.478823</td>\n",
       "      <td>-0.132434</td>\n",
       "      <td>-0.175077</td>\n",
       "      <td>-0.054044</td>\n",
       "      <td>-0.047311</td>\n",
       "      <td>0.429159</td>\n",
       "      <td>-0.003666</td>\n",
       "      <td>-0.003666</td>\n",
       "    </tr>\n",
       "    <tr>\n",
       "      <td>RH_3</td>\n",
       "      <td>-0.041124</td>\n",
       "      <td>-0.010292</td>\n",
       "      <td>0.673903</td>\n",
       "      <td>0.100676</td>\n",
       "      <td>0.506421</td>\n",
       "      <td>-0.018518</td>\n",
       "      <td>1.000000</td>\n",
       "      <td>-0.100069</td>\n",
       "      <td>0.712470</td>\n",
       "      <td>-0.033465</td>\n",
       "      <td>...</td>\n",
       "      <td>-0.132283</td>\n",
       "      <td>0.622076</td>\n",
       "      <td>0.089229</td>\n",
       "      <td>-0.193654</td>\n",
       "      <td>0.229050</td>\n",
       "      <td>0.133758</td>\n",
       "      <td>0.007764</td>\n",
       "      <td>0.283458</td>\n",
       "      <td>0.000031</td>\n",
       "      <td>0.000031</td>\n",
       "    </tr>\n",
       "    <tr>\n",
       "      <td>T4</td>\n",
       "      <td>0.145514</td>\n",
       "      <td>0.656698</td>\n",
       "      <td>0.041207</td>\n",
       "      <td>0.527505</td>\n",
       "      <td>-0.032317</td>\n",
       "      <td>0.628428</td>\n",
       "      <td>-0.100069</td>\n",
       "      <td>1.000000</td>\n",
       "      <td>-0.038946</td>\n",
       "      <td>0.654411</td>\n",
       "      <td>...</td>\n",
       "      <td>0.672769</td>\n",
       "      <td>-0.033627</td>\n",
       "      <td>0.449436</td>\n",
       "      <td>-0.036642</td>\n",
       "      <td>-0.241406</td>\n",
       "      <td>-0.109231</td>\n",
       "      <td>-0.054089</td>\n",
       "      <td>0.323477</td>\n",
       "      <td>-0.002406</td>\n",
       "      <td>-0.002406</td>\n",
       "    </tr>\n",
       "    <tr>\n",
       "      <td>RH_4</td>\n",
       "      <td>-0.013776</td>\n",
       "      <td>0.077916</td>\n",
       "      <td>0.728573</td>\n",
       "      <td>0.184335</td>\n",
       "      <td>0.541701</td>\n",
       "      <td>0.071963</td>\n",
       "      <td>0.712470</td>\n",
       "      <td>-0.038946</td>\n",
       "      <td>1.000000</td>\n",
       "      <td>0.064449</td>\n",
       "      <td>...</td>\n",
       "      <td>-0.036408</td>\n",
       "      <td>0.631155</td>\n",
       "      <td>0.213286</td>\n",
       "      <td>-0.215923</td>\n",
       "      <td>0.211719</td>\n",
       "      <td>0.172242</td>\n",
       "      <td>-0.005927</td>\n",
       "      <td>0.437862</td>\n",
       "      <td>-0.001174</td>\n",
       "      <td>-0.001174</td>\n",
       "    </tr>\n",
       "    <tr>\n",
       "      <td>T5</td>\n",
       "      <td>0.133212</td>\n",
       "      <td>0.685181</td>\n",
       "      <td>0.108559</td>\n",
       "      <td>0.498218</td>\n",
       "      <td>0.076147</td>\n",
       "      <td>0.711661</td>\n",
       "      <td>-0.033465</td>\n",
       "      <td>0.654411</td>\n",
       "      <td>0.064449</td>\n",
       "      <td>1.000000</td>\n",
       "      <td>...</td>\n",
       "      <td>0.737162</td>\n",
       "      <td>0.035810</td>\n",
       "      <td>0.435837</td>\n",
       "      <td>-0.128624</td>\n",
       "      <td>-0.160377</td>\n",
       "      <td>-0.087038</td>\n",
       "      <td>-0.039599</td>\n",
       "      <td>0.395242</td>\n",
       "      <td>-0.004515</td>\n",
       "      <td>-0.004515</td>\n",
       "    </tr>\n",
       "    <tr>\n",
       "      <td>RH_5</td>\n",
       "      <td>-0.031924</td>\n",
       "      <td>-0.026224</td>\n",
       "      <td>0.332614</td>\n",
       "      <td>0.025465</td>\n",
       "      <td>0.281796</td>\n",
       "      <td>-0.071590</td>\n",
       "      <td>0.401752</td>\n",
       "      <td>-0.092173</td>\n",
       "      <td>0.366085</td>\n",
       "      <td>-0.032678</td>\n",
       "      <td>...</td>\n",
       "      <td>-0.130380</td>\n",
       "      <td>0.326227</td>\n",
       "      <td>-0.024219</td>\n",
       "      <td>-0.121178</td>\n",
       "      <td>0.167637</td>\n",
       "      <td>0.072851</td>\n",
       "      <td>-0.005637</td>\n",
       "      <td>0.105954</td>\n",
       "      <td>-0.004954</td>\n",
       "      <td>-0.004954</td>\n",
       "    </tr>\n",
       "    <tr>\n",
       "      <td>T6</td>\n",
       "      <td>0.169865</td>\n",
       "      <td>0.441550</td>\n",
       "      <td>0.233869</td>\n",
       "      <td>0.555020</td>\n",
       "      <td>0.087969</td>\n",
       "      <td>0.464971</td>\n",
       "      <td>0.058077</td>\n",
       "      <td>0.435548</td>\n",
       "      <td>0.187962</td>\n",
       "      <td>0.416725</td>\n",
       "      <td>...</td>\n",
       "      <td>0.453700</td>\n",
       "      <td>0.124223</td>\n",
       "      <td>0.872161</td>\n",
       "      <td>-0.109493</td>\n",
       "      <td>-0.343895</td>\n",
       "      <td>0.166367</td>\n",
       "      <td>-0.019177</td>\n",
       "      <td>0.597053</td>\n",
       "      <td>-0.009225</td>\n",
       "      <td>-0.009225</td>\n",
       "    </tr>\n",
       "    <tr>\n",
       "      <td>RH_6</td>\n",
       "      <td>-0.168806</td>\n",
       "      <td>-0.429943</td>\n",
       "      <td>0.199084</td>\n",
       "      <td>-0.351878</td>\n",
       "      <td>0.250219</td>\n",
       "      <td>-0.469377</td>\n",
       "      <td>0.370484</td>\n",
       "      <td>-0.516047</td>\n",
       "      <td>0.280600</td>\n",
       "      <td>-0.460114</td>\n",
       "      <td>...</td>\n",
       "      <td>-0.573902</td>\n",
       "      <td>0.267224</td>\n",
       "      <td>-0.422240</td>\n",
       "      <td>-0.008974</td>\n",
       "      <td>0.490227</td>\n",
       "      <td>0.040025</td>\n",
       "      <td>0.045769</td>\n",
       "      <td>-0.150546</td>\n",
       "      <td>0.007004</td>\n",
       "      <td>0.007004</td>\n",
       "    </tr>\n",
       "    <tr>\n",
       "      <td>T7</td>\n",
       "      <td>0.128686</td>\n",
       "      <td>0.616163</td>\n",
       "      <td>-0.034145</td>\n",
       "      <td>0.421098</td>\n",
       "      <td>-0.055303</td>\n",
       "      <td>0.638237</td>\n",
       "      <td>-0.173252</td>\n",
       "      <td>0.655397</td>\n",
       "      <td>-0.104721</td>\n",
       "      <td>0.672917</td>\n",
       "      <td>...</td>\n",
       "      <td>0.779708</td>\n",
       "      <td>-0.056108</td>\n",
       "      <td>0.401868</td>\n",
       "      <td>-0.065914</td>\n",
       "      <td>-0.266480</td>\n",
       "      <td>-0.111464</td>\n",
       "      <td>-0.052033</td>\n",
       "      <td>0.275944</td>\n",
       "      <td>-0.002734</td>\n",
       "      <td>-0.002734</td>\n",
       "    </tr>\n",
       "    <tr>\n",
       "      <td>RH_7</td>\n",
       "      <td>-0.084023</td>\n",
       "      <td>0.090853</td>\n",
       "      <td>0.621207</td>\n",
       "      <td>0.159521</td>\n",
       "      <td>0.518808</td>\n",
       "      <td>0.095341</td>\n",
       "      <td>0.634481</td>\n",
       "      <td>0.011181</td>\n",
       "      <td>0.710804</td>\n",
       "      <td>0.087515</td>\n",
       "      <td>...</td>\n",
       "      <td>-0.002768</td>\n",
       "      <td>0.654096</td>\n",
       "      <td>0.202755</td>\n",
       "      <td>-0.203222</td>\n",
       "      <td>0.244087</td>\n",
       "      <td>0.114346</td>\n",
       "      <td>-0.018708</td>\n",
       "      <td>0.454815</td>\n",
       "      <td>0.001730</td>\n",
       "      <td>0.001730</td>\n",
       "    </tr>\n",
       "    <tr>\n",
       "      <td>T8</td>\n",
       "      <td>0.168129</td>\n",
       "      <td>0.633164</td>\n",
       "      <td>-0.026856</td>\n",
       "      <td>0.404063</td>\n",
       "      <td>-0.028637</td>\n",
       "      <td>0.612075</td>\n",
       "      <td>-0.157397</td>\n",
       "      <td>0.578828</td>\n",
       "      <td>-0.070428</td>\n",
       "      <td>0.637668</td>\n",
       "      <td>...</td>\n",
       "      <td>0.696059</td>\n",
       "      <td>-0.074509</td>\n",
       "      <td>0.352148</td>\n",
       "      <td>-0.114685</td>\n",
       "      <td>-0.193871</td>\n",
       "      <td>-0.120126</td>\n",
       "      <td>-0.021919</td>\n",
       "      <td>0.271311</td>\n",
       "      <td>-0.003616</td>\n",
       "      <td>-0.003616</td>\n",
       "    </tr>\n",
       "    <tr>\n",
       "      <td>RH_8</td>\n",
       "      <td>-0.153699</td>\n",
       "      <td>-0.013317</td>\n",
       "      <td>0.529249</td>\n",
       "      <td>0.038459</td>\n",
       "      <td>0.498514</td>\n",
       "      <td>-0.002020</td>\n",
       "      <td>0.611586</td>\n",
       "      <td>-0.089314</td>\n",
       "      <td>0.625231</td>\n",
       "      <td>-0.011968</td>\n",
       "      <td>...</td>\n",
       "      <td>-0.108446</td>\n",
       "      <td>0.649924</td>\n",
       "      <td>0.068178</td>\n",
       "      <td>-0.157637</td>\n",
       "      <td>0.332157</td>\n",
       "      <td>0.086382</td>\n",
       "      <td>0.017985</td>\n",
       "      <td>0.327637</td>\n",
       "      <td>0.003765</td>\n",
       "      <td>0.003765</td>\n",
       "    </tr>\n",
       "    <tr>\n",
       "      <td>T9</td>\n",
       "      <td>0.117577</td>\n",
       "      <td>0.621499</td>\n",
       "      <td>0.033867</td>\n",
       "      <td>0.431003</td>\n",
       "      <td>0.021696</td>\n",
       "      <td>0.725287</td>\n",
       "      <td>-0.132283</td>\n",
       "      <td>0.672769</td>\n",
       "      <td>-0.036408</td>\n",
       "      <td>0.737162</td>\n",
       "      <td>...</td>\n",
       "      <td>1.000000</td>\n",
       "      <td>-0.009038</td>\n",
       "      <td>0.458201</td>\n",
       "      <td>-0.118543</td>\n",
       "      <td>-0.214352</td>\n",
       "      <td>-0.099118</td>\n",
       "      <td>-0.042551</td>\n",
       "      <td>0.384440</td>\n",
       "      <td>-0.002233</td>\n",
       "      <td>-0.002233</td>\n",
       "    </tr>\n",
       "    <tr>\n",
       "      <td>RH_9</td>\n",
       "      <td>-0.115478</td>\n",
       "      <td>0.041627</td>\n",
       "      <td>0.558051</td>\n",
       "      <td>0.106905</td>\n",
       "      <td>0.493517</td>\n",
       "      <td>0.071472</td>\n",
       "      <td>0.622076</td>\n",
       "      <td>-0.033627</td>\n",
       "      <td>0.631155</td>\n",
       "      <td>0.035810</td>\n",
       "      <td>...</td>\n",
       "      <td>-0.009038</td>\n",
       "      <td>1.000000</td>\n",
       "      <td>0.154863</td>\n",
       "      <td>-0.154545</td>\n",
       "      <td>0.235440</td>\n",
       "      <td>0.133822</td>\n",
       "      <td>-0.001047</td>\n",
       "      <td>0.357626</td>\n",
       "      <td>-0.000692</td>\n",
       "      <td>-0.000692</td>\n",
       "    </tr>\n",
       "    <tr>\n",
       "      <td>T_out</td>\n",
       "      <td>0.150849</td>\n",
       "      <td>0.470995</td>\n",
       "      <td>0.257108</td>\n",
       "      <td>0.559839</td>\n",
       "      <td>0.115948</td>\n",
       "      <td>0.478823</td>\n",
       "      <td>0.089229</td>\n",
       "      <td>0.449436</td>\n",
       "      <td>0.213286</td>\n",
       "      <td>0.435837</td>\n",
       "      <td>...</td>\n",
       "      <td>0.458201</td>\n",
       "      <td>0.154863</td>\n",
       "      <td>1.000000</td>\n",
       "      <td>-0.109089</td>\n",
       "      <td>-0.348864</td>\n",
       "      <td>0.177582</td>\n",
       "      <td>-0.011393</td>\n",
       "      <td>0.626895</td>\n",
       "      <td>-0.009409</td>\n",
       "      <td>-0.009409</td>\n",
       "    </tr>\n",
       "    <tr>\n",
       "      <td>Press_mm_hg</td>\n",
       "      <td>-0.068617</td>\n",
       "      <td>-0.090415</td>\n",
       "      <td>-0.218106</td>\n",
       "      <td>-0.100214</td>\n",
       "      <td>-0.173817</td>\n",
       "      <td>-0.132434</td>\n",
       "      <td>-0.193654</td>\n",
       "      <td>-0.036642</td>\n",
       "      <td>-0.215923</td>\n",
       "      <td>-0.128624</td>\n",
       "      <td>...</td>\n",
       "      <td>-0.118543</td>\n",
       "      <td>-0.154545</td>\n",
       "      <td>-0.109089</td>\n",
       "      <td>1.000000</td>\n",
       "      <td>-0.044296</td>\n",
       "      <td>-0.144635</td>\n",
       "      <td>0.019467</td>\n",
       "      <td>-0.182546</td>\n",
       "      <td>0.001162</td>\n",
       "      <td>0.001162</td>\n",
       "    </tr>\n",
       "    <tr>\n",
       "      <td>RH_out</td>\n",
       "      <td>-0.188432</td>\n",
       "      <td>-0.203084</td>\n",
       "      <td>0.157316</td>\n",
       "      <td>-0.290690</td>\n",
       "      <td>0.337718</td>\n",
       "      <td>-0.175077</td>\n",
       "      <td>0.229050</td>\n",
       "      <td>-0.241406</td>\n",
       "      <td>0.211719</td>\n",
       "      <td>-0.160377</td>\n",
       "      <td>...</td>\n",
       "      <td>-0.214352</td>\n",
       "      <td>0.235440</td>\n",
       "      <td>-0.348864</td>\n",
       "      <td>-0.044296</td>\n",
       "      <td>1.000000</td>\n",
       "      <td>-0.169212</td>\n",
       "      <td>0.026774</td>\n",
       "      <td>0.027028</td>\n",
       "      <td>0.014471</td>\n",
       "      <td>0.014471</td>\n",
       "    </tr>\n",
       "    <tr>\n",
       "      <td>Windspeed</td>\n",
       "      <td>0.082784</td>\n",
       "      <td>-0.041053</td>\n",
       "      <td>0.140399</td>\n",
       "      <td>0.088018</td>\n",
       "      <td>0.048886</td>\n",
       "      <td>-0.054044</td>\n",
       "      <td>0.133758</td>\n",
       "      <td>-0.109231</td>\n",
       "      <td>0.172242</td>\n",
       "      <td>-0.087038</td>\n",
       "      <td>...</td>\n",
       "      <td>-0.099118</td>\n",
       "      <td>0.133822</td>\n",
       "      <td>0.177582</td>\n",
       "      <td>-0.144635</td>\n",
       "      <td>-0.169212</td>\n",
       "      <td>1.000000</td>\n",
       "      <td>0.016208</td>\n",
       "      <td>0.108236</td>\n",
       "      <td>-0.005981</td>\n",
       "      <td>-0.005981</td>\n",
       "    </tr>\n",
       "    <tr>\n",
       "      <td>Visibility</td>\n",
       "      <td>-0.002834</td>\n",
       "      <td>-0.026189</td>\n",
       "      <td>-0.012261</td>\n",
       "      <td>-0.020667</td>\n",
       "      <td>-0.011771</td>\n",
       "      <td>-0.047311</td>\n",
       "      <td>0.007764</td>\n",
       "      <td>-0.054089</td>\n",
       "      <td>-0.005927</td>\n",
       "      <td>-0.039599</td>\n",
       "      <td>...</td>\n",
       "      <td>-0.042551</td>\n",
       "      <td>-0.001047</td>\n",
       "      <td>-0.011393</td>\n",
       "      <td>0.019467</td>\n",
       "      <td>0.026774</td>\n",
       "      <td>0.016208</td>\n",
       "      <td>1.000000</td>\n",
       "      <td>-0.008879</td>\n",
       "      <td>-0.003666</td>\n",
       "      <td>-0.003666</td>\n",
       "    </tr>\n",
       "    <tr>\n",
       "      <td>Tdewpoint</td>\n",
       "      <td>0.052123</td>\n",
       "      <td>0.382614</td>\n",
       "      <td>0.448601</td>\n",
       "      <td>0.388972</td>\n",
       "      <td>0.373408</td>\n",
       "      <td>0.429159</td>\n",
       "      <td>0.283458</td>\n",
       "      <td>0.323477</td>\n",
       "      <td>0.437862</td>\n",
       "      <td>0.395242</td>\n",
       "      <td>...</td>\n",
       "      <td>0.384440</td>\n",
       "      <td>0.357626</td>\n",
       "      <td>0.626895</td>\n",
       "      <td>-0.182546</td>\n",
       "      <td>0.027028</td>\n",
       "      <td>0.108236</td>\n",
       "      <td>-0.008879</td>\n",
       "      <td>1.000000</td>\n",
       "      <td>-0.003685</td>\n",
       "      <td>-0.003685</td>\n",
       "    </tr>\n",
       "    <tr>\n",
       "      <td>rv1</td>\n",
       "      <td>-0.006543</td>\n",
       "      <td>-0.005127</td>\n",
       "      <td>-0.000889</td>\n",
       "      <td>-0.006898</td>\n",
       "      <td>0.004961</td>\n",
       "      <td>-0.003666</td>\n",
       "      <td>0.000031</td>\n",
       "      <td>-0.002406</td>\n",
       "      <td>-0.001174</td>\n",
       "      <td>-0.004515</td>\n",
       "      <td>...</td>\n",
       "      <td>-0.002233</td>\n",
       "      <td>-0.000692</td>\n",
       "      <td>-0.009409</td>\n",
       "      <td>0.001162</td>\n",
       "      <td>0.014471</td>\n",
       "      <td>-0.005981</td>\n",
       "      <td>-0.003666</td>\n",
       "      <td>-0.003685</td>\n",
       "      <td>1.000000</td>\n",
       "      <td>1.000000</td>\n",
       "    </tr>\n",
       "    <tr>\n",
       "      <td>rv2</td>\n",
       "      <td>-0.006543</td>\n",
       "      <td>-0.005127</td>\n",
       "      <td>-0.000889</td>\n",
       "      <td>-0.006898</td>\n",
       "      <td>0.004961</td>\n",
       "      <td>-0.003666</td>\n",
       "      <td>0.000031</td>\n",
       "      <td>-0.002406</td>\n",
       "      <td>-0.001174</td>\n",
       "      <td>-0.004515</td>\n",
       "      <td>...</td>\n",
       "      <td>-0.002233</td>\n",
       "      <td>-0.000692</td>\n",
       "      <td>-0.009409</td>\n",
       "      <td>0.001162</td>\n",
       "      <td>0.014471</td>\n",
       "      <td>-0.005981</td>\n",
       "      <td>-0.003666</td>\n",
       "      <td>-0.003685</td>\n",
       "      <td>1.000000</td>\n",
       "      <td>1.000000</td>\n",
       "    </tr>\n",
       "  </tbody>\n",
       "</table>\n",
       "<p>27 rows × 27 columns</p>\n",
       "</div>"
      ],
      "text/plain": [
       "             Appliances        T1      RH_1        T2      RH_2        T3  \\\n",
       "Appliances     1.000000  0.173869  0.041802  0.214549 -0.082822  0.153314   \n",
       "T1             0.173869  1.000000  0.094225  0.657760  0.000107  0.698082   \n",
       "RH_1           0.041802  0.094225  1.000000  0.197266  0.609414  0.124938   \n",
       "T2             0.214549  0.657760  0.197266  1.000000 -0.058473  0.507287   \n",
       "RH_2          -0.082822  0.000107  0.609414 -0.058473  1.000000  0.083263   \n",
       "T3             0.153314  0.698082  0.124938  0.507287  0.083263  1.000000   \n",
       "RH_3          -0.041124 -0.010292  0.673903  0.100676  0.506421 -0.018518   \n",
       "T4             0.145514  0.656698  0.041207  0.527505 -0.032317  0.628428   \n",
       "RH_4          -0.013776  0.077916  0.728573  0.184335  0.541701  0.071963   \n",
       "T5             0.133212  0.685181  0.108559  0.498218  0.076147  0.711661   \n",
       "RH_5          -0.031924 -0.026224  0.332614  0.025465  0.281796 -0.071590   \n",
       "T6             0.169865  0.441550  0.233869  0.555020  0.087969  0.464971   \n",
       "RH_6          -0.168806 -0.429943  0.199084 -0.351878  0.250219 -0.469377   \n",
       "T7             0.128686  0.616163 -0.034145  0.421098 -0.055303  0.638237   \n",
       "RH_7          -0.084023  0.090853  0.621207  0.159521  0.518808  0.095341   \n",
       "T8             0.168129  0.633164 -0.026856  0.404063 -0.028637  0.612075   \n",
       "RH_8          -0.153699 -0.013317  0.529249  0.038459  0.498514 -0.002020   \n",
       "T9             0.117577  0.621499  0.033867  0.431003  0.021696  0.725287   \n",
       "RH_9          -0.115478  0.041627  0.558051  0.106905  0.493517  0.071472   \n",
       "T_out          0.150849  0.470995  0.257108  0.559839  0.115948  0.478823   \n",
       "Press_mm_hg   -0.068617 -0.090415 -0.218106 -0.100214 -0.173817 -0.132434   \n",
       "RH_out        -0.188432 -0.203084  0.157316 -0.290690  0.337718 -0.175077   \n",
       "Windspeed      0.082784 -0.041053  0.140399  0.088018  0.048886 -0.054044   \n",
       "Visibility    -0.002834 -0.026189 -0.012261 -0.020667 -0.011771 -0.047311   \n",
       "Tdewpoint      0.052123  0.382614  0.448601  0.388972  0.373408  0.429159   \n",
       "rv1           -0.006543 -0.005127 -0.000889 -0.006898  0.004961 -0.003666   \n",
       "rv2           -0.006543 -0.005127 -0.000889 -0.006898  0.004961 -0.003666   \n",
       "\n",
       "                 RH_3        T4      RH_4        T5  ...        T9      RH_9  \\\n",
       "Appliances  -0.041124  0.145514 -0.013776  0.133212  ...  0.117577 -0.115478   \n",
       "T1          -0.010292  0.656698  0.077916  0.685181  ...  0.621499  0.041627   \n",
       "RH_1         0.673903  0.041207  0.728573  0.108559  ...  0.033867  0.558051   \n",
       "T2           0.100676  0.527505  0.184335  0.498218  ...  0.431003  0.106905   \n",
       "RH_2         0.506421 -0.032317  0.541701  0.076147  ...  0.021696  0.493517   \n",
       "T3          -0.018518  0.628428  0.071963  0.711661  ...  0.725287  0.071472   \n",
       "RH_3         1.000000 -0.100069  0.712470 -0.033465  ... -0.132283  0.622076   \n",
       "T4          -0.100069  1.000000 -0.038946  0.654411  ...  0.672769 -0.033627   \n",
       "RH_4         0.712470 -0.038946  1.000000  0.064449  ... -0.036408  0.631155   \n",
       "T5          -0.033465  0.654411  0.064449  1.000000  ...  0.737162  0.035810   \n",
       "RH_5         0.401752 -0.092173  0.366085 -0.032678  ... -0.130380  0.326227   \n",
       "T6           0.058077  0.435548  0.187962  0.416725  ...  0.453700  0.124223   \n",
       "RH_6         0.370484 -0.516047  0.280600 -0.460114  ... -0.573902  0.267224   \n",
       "T7          -0.173252  0.655397 -0.104721  0.672917  ...  0.779708 -0.056108   \n",
       "RH_7         0.634481  0.011181  0.710804  0.087515  ... -0.002768  0.654096   \n",
       "T8          -0.157397  0.578828 -0.070428  0.637668  ...  0.696059 -0.074509   \n",
       "RH_8         0.611586 -0.089314  0.625231 -0.011968  ... -0.108446  0.649924   \n",
       "T9          -0.132283  0.672769 -0.036408  0.737162  ...  1.000000 -0.009038   \n",
       "RH_9         0.622076 -0.033627  0.631155  0.035810  ... -0.009038  1.000000   \n",
       "T_out        0.089229  0.449436  0.213286  0.435837  ...  0.458201  0.154863   \n",
       "Press_mm_hg -0.193654 -0.036642 -0.215923 -0.128624  ... -0.118543 -0.154545   \n",
       "RH_out       0.229050 -0.241406  0.211719 -0.160377  ... -0.214352  0.235440   \n",
       "Windspeed    0.133758 -0.109231  0.172242 -0.087038  ... -0.099118  0.133822   \n",
       "Visibility   0.007764 -0.054089 -0.005927 -0.039599  ... -0.042551 -0.001047   \n",
       "Tdewpoint    0.283458  0.323477  0.437862  0.395242  ...  0.384440  0.357626   \n",
       "rv1          0.000031 -0.002406 -0.001174 -0.004515  ... -0.002233 -0.000692   \n",
       "rv2          0.000031 -0.002406 -0.001174 -0.004515  ... -0.002233 -0.000692   \n",
       "\n",
       "                T_out  Press_mm_hg    RH_out  Windspeed  Visibility  \\\n",
       "Appliances   0.150849    -0.068617 -0.188432   0.082784   -0.002834   \n",
       "T1           0.470995    -0.090415 -0.203084  -0.041053   -0.026189   \n",
       "RH_1         0.257108    -0.218106  0.157316   0.140399   -0.012261   \n",
       "T2           0.559839    -0.100214 -0.290690   0.088018   -0.020667   \n",
       "RH_2         0.115948    -0.173817  0.337718   0.048886   -0.011771   \n",
       "T3           0.478823    -0.132434 -0.175077  -0.054044   -0.047311   \n",
       "RH_3         0.089229    -0.193654  0.229050   0.133758    0.007764   \n",
       "T4           0.449436    -0.036642 -0.241406  -0.109231   -0.054089   \n",
       "RH_4         0.213286    -0.215923  0.211719   0.172242   -0.005927   \n",
       "T5           0.435837    -0.128624 -0.160377  -0.087038   -0.039599   \n",
       "RH_5        -0.024219    -0.121178  0.167637   0.072851   -0.005637   \n",
       "T6           0.872161    -0.109493 -0.343895   0.166367   -0.019177   \n",
       "RH_6        -0.422240    -0.008974  0.490227   0.040025    0.045769   \n",
       "T7           0.401868    -0.065914 -0.266480  -0.111464   -0.052033   \n",
       "RH_7         0.202755    -0.203222  0.244087   0.114346   -0.018708   \n",
       "T8           0.352148    -0.114685 -0.193871  -0.120126   -0.021919   \n",
       "RH_8         0.068178    -0.157637  0.332157   0.086382    0.017985   \n",
       "T9           0.458201    -0.118543 -0.214352  -0.099118   -0.042551   \n",
       "RH_9         0.154863    -0.154545  0.235440   0.133822   -0.001047   \n",
       "T_out        1.000000    -0.109089 -0.348864   0.177582   -0.011393   \n",
       "Press_mm_hg -0.109089     1.000000 -0.044296  -0.144635    0.019467   \n",
       "RH_out      -0.348864    -0.044296  1.000000  -0.169212    0.026774   \n",
       "Windspeed    0.177582    -0.144635 -0.169212   1.000000    0.016208   \n",
       "Visibility  -0.011393     0.019467  0.026774   0.016208    1.000000   \n",
       "Tdewpoint    0.626895    -0.182546  0.027028   0.108236   -0.008879   \n",
       "rv1         -0.009409     0.001162  0.014471  -0.005981   -0.003666   \n",
       "rv2         -0.009409     0.001162  0.014471  -0.005981   -0.003666   \n",
       "\n",
       "             Tdewpoint       rv1       rv2  \n",
       "Appliances    0.052123 -0.006543 -0.006543  \n",
       "T1            0.382614 -0.005127 -0.005127  \n",
       "RH_1          0.448601 -0.000889 -0.000889  \n",
       "T2            0.388972 -0.006898 -0.006898  \n",
       "RH_2          0.373408  0.004961  0.004961  \n",
       "T3            0.429159 -0.003666 -0.003666  \n",
       "RH_3          0.283458  0.000031  0.000031  \n",
       "T4            0.323477 -0.002406 -0.002406  \n",
       "RH_4          0.437862 -0.001174 -0.001174  \n",
       "T5            0.395242 -0.004515 -0.004515  \n",
       "RH_5          0.105954 -0.004954 -0.004954  \n",
       "T6            0.597053 -0.009225 -0.009225  \n",
       "RH_6         -0.150546  0.007004  0.007004  \n",
       "T7            0.275944 -0.002734 -0.002734  \n",
       "RH_7          0.454815  0.001730  0.001730  \n",
       "T8            0.271311 -0.003616 -0.003616  \n",
       "RH_8          0.327637  0.003765  0.003765  \n",
       "T9            0.384440 -0.002233 -0.002233  \n",
       "RH_9          0.357626 -0.000692 -0.000692  \n",
       "T_out         0.626895 -0.009409 -0.009409  \n",
       "Press_mm_hg  -0.182546  0.001162  0.001162  \n",
       "RH_out        0.027028  0.014471  0.014471  \n",
       "Windspeed     0.108236 -0.005981 -0.005981  \n",
       "Visibility   -0.008879 -0.003666 -0.003666  \n",
       "Tdewpoint     1.000000 -0.003685 -0.003685  \n",
       "rv1          -0.003685  1.000000  1.000000  \n",
       "rv2          -0.003685  1.000000  1.000000  \n",
       "\n",
       "[27 rows x 27 columns]"
      ]
     },
     "execution_count": 11,
     "metadata": {},
     "output_type": "execute_result"
    }
   ],
   "source": [
    "df.corr(method ='kendall')"
   ]
  },
  {
   "cell_type": "code",
   "execution_count": 12,
   "metadata": {},
   "outputs": [],
   "source": [
    "#drop  columns with no meaninful correlation\n",
    "df.drop(['Visibility','rv1','rv2',],axis=1,inplace=True)"
   ]
  },
  {
   "cell_type": "markdown",
   "metadata": {},
   "source": [
    "# LINEAR REGRESSION MODEL"
   ]
  },
  {
   "cell_type": "code",
   "execution_count": 13,
   "metadata": {},
   "outputs": [],
   "source": [
    "X=df.drop('Appliances',axis=1)\n",
    "y=df['Appliances']"
   ]
  },
  {
   "cell_type": "code",
   "execution_count": 14,
   "metadata": {},
   "outputs": [],
   "source": [
    "#Splitting datasets\n",
    "from sklearn.model_selection import train_test_split\n",
    "X_train, X_test, y_train, y_test = train_test_split(X, y, random_state = 0)"
   ]
  },
  {
   "cell_type": "code",
   "execution_count": 15,
   "metadata": {},
   "outputs": [],
   "source": [
    "#Scaling  the data\n",
    "from sklearn.preprocessing import StandardScaler\n",
    "sc_X = StandardScaler()\n",
    "X_train_sc = sc_X.fit_transform(X_train)\n",
    "X_test_sc = sc_X.transform(X_test)"
   ]
  },
  {
   "cell_type": "code",
   "execution_count": null,
   "metadata": {},
   "outputs": [],
   "source": [
    "#import libs\n",
    "from sklearn.linear_model import LinearRegression\n",
    "from sklearn.model_selection import GridSearchCV"
   ]
  },
  {
   "cell_type": "code",
   "execution_count": 16,
   "metadata": {},
   "outputs": [
    {
     "data": {
      "text/plain": [
       "GridSearchCV(cv=10, error_score='raise-deprecating',\n",
       "             estimator=LinearRegression(copy_X=True, fit_intercept=True,\n",
       "                                        n_jobs=None, normalize=False),\n",
       "             iid='warn', n_jobs=None,\n",
       "             param_grid={'copy_X': [True, False],\n",
       "                         'fit_intercept': [True, False],\n",
       "                         'normalize': [True, False]},\n",
       "             pre_dispatch='2*n_jobs', refit=True, return_train_score=False,\n",
       "             scoring=None, verbose=0)"
      ]
     },
     "execution_count": 16,
     "metadata": {},
     "output_type": "execute_result"
    }
   ],
   "source": [
    "# RUN GRIDSEARCH FOR BEST PARAMETERS\n",
    "model = LinearRegression()\n",
    "parameters = {'fit_intercept':[True,False], 'normalize':[True,False], 'copy_X':[True, False]}\n",
    "grid = GridSearchCV(model,parameters, cv=10)\n",
    "grid.fit(X_train, y_train)\n",
    "#print()\"r2 / variance : \", grid.best_score_print(\"Residual sum of squares: %.2f\"% np.mean((grid.predict(X_test) - y_test) ** 2))"
   ]
  },
  {
   "cell_type": "code",
   "execution_count": 17,
   "metadata": {},
   "outputs": [
    {
     "name": "stdout",
     "output_type": "stream",
     "text": [
      "r2 / variance :  0.14426943642023843\n"
     ]
    }
   ],
   "source": [
    "print(\"r2 / variance : \", grid.best_score_)"
   ]
  },
  {
   "cell_type": "code",
   "execution_count": 18,
   "metadata": {},
   "outputs": [
    {
     "name": "stdout",
     "output_type": "stream",
     "text": [
      "Residual sum of squares: 9036.49\n"
     ]
    }
   ],
   "source": [
    "print(\"Residual sum of squares: %.2f\"\n",
    "              % np.mean((grid.predict(X_test) - y_test) ** 2))"
   ]
  },
  {
   "cell_type": "code",
   "execution_count": 19,
   "metadata": {},
   "outputs": [
    {
     "data": {
      "text/plain": [
       "GridSearchCV(cv=10, error_score='raise-deprecating',\n",
       "             estimator=LinearRegression(copy_X=True, fit_intercept=True,\n",
       "                                        n_jobs=None, normalize=False),\n",
       "             iid='warn', n_jobs=None,\n",
       "             param_grid={'copy_X': [True, False],\n",
       "                         'fit_intercept': [True, False],\n",
       "                         'normalize': [True, False]},\n",
       "             pre_dispatch='2*n_jobs', refit=True, return_train_score=False,\n",
       "             scoring=None, verbose=0)"
      ]
     },
     "execution_count": 19,
     "metadata": {},
     "output_type": "execute_result"
    }
   ],
   "source": [
    "grid.fit(X, y)"
   ]
  },
  {
   "cell_type": "code",
   "execution_count": 20,
   "metadata": {},
   "outputs": [
    {
     "data": {
      "text/plain": [
       "{'copy_X': True, 'fit_intercept': False, 'normalize': True}"
      ]
     },
     "execution_count": 20,
     "metadata": {},
     "output_type": "execute_result"
    }
   ],
   "source": [
    "grid.best_params_"
   ]
  },
  {
   "cell_type": "code",
   "execution_count": 21,
   "metadata": {},
   "outputs": [],
   "source": [
    "#Prediction\n",
    "from sklearn.linear_model import LinearRegression\n",
    "lin_reg = LinearRegression(copy_X=True,fit_intercept=True)\n",
    "lin_reg.fit(X_train_sc,y_train)\n",
    "y_pred = lin_reg.predict(X_test_sc)\n"
   ]
  },
  {
   "cell_type": "code",
   "execution_count": 22,
   "metadata": {},
   "outputs": [],
   "source": [
    "#RMSE\n",
    "from sklearn.metrics import mean_squared_error\n",
    "from math import sqrt\n",
    "mse = mean_squared_error(y_test,y_pred)\n",
    "rmse = sqrt(mse)\n",
    "score = lin_reg.score(X_test_sc, y_test)"
   ]
  },
  {
   "cell_type": "code",
   "execution_count": 23,
   "metadata": {},
   "outputs": [
    {
     "name": "stdout",
     "output_type": "stream",
     "text": [
      "R-Square :  0.13947859033907417\n",
      "Mean Square Error:  9037.007927427547\n",
      "Root Mean Square Error:  95.06317860995154\n"
     ]
    }
   ],
   "source": [
    "print(\"R-Square : \", score)\n",
    "print(\"Mean Square Error: \" ,mse)\n",
    "print(\"Root Mean Square Error: \" ,rmse)"
   ]
  },
  {
   "cell_type": "code",
   "execution_count": 24,
   "metadata": {},
   "outputs": [
    {
     "data": {
      "text/plain": [
       "x1     -0.713399\n",
       "x2     64.805674\n",
       "x3    -43.684309\n",
       "x4    -58.682657\n",
       "x5     51.379046\n",
       "x6     16.157983\n",
       "x7      4.882714\n",
       "x8      8.696013\n",
       "x9     -0.721070\n",
       "x10     1.952374\n",
       "x11    41.752428\n",
       "x12    11.141922\n",
       "x13     2.171938\n",
       "x14    -9.571376\n",
       "x15    21.326287\n",
       "x16   -31.208955\n",
       "x17   -43.932859\n",
       "x18    -6.238293\n",
       "x19   -44.849999\n",
       "x20     1.370742\n",
       "x21    -9.971570\n",
       "x22     5.391683\n",
       "x23    15.182255\n",
       "dtype: float64"
      ]
     },
     "execution_count": 24,
     "metadata": {},
     "output_type": "execute_result"
    }
   ],
   "source": [
    "import statsmodels.api as sm\n",
    "X2_train=sm.add_constant(X_train_sc)\n",
    "X2_test=sm.add_constant(X_test_sc)\n",
    "ols=sm.OLS(y_train,X_train_sc)\n",
    "lr=ols.fit()\n",
    "lr.params"
   ]
  },
  {
   "cell_type": "code",
   "execution_count": 25,
   "metadata": {},
   "outputs": [
    {
     "name": "stdout",
     "output_type": "stream",
     "text": [
      "                                 OLS Regression Results                                \n",
      "=======================================================================================\n",
      "Dep. Variable:             Appliances   R-squared (uncentered):                   0.078\n",
      "Model:                            OLS   Adj. R-squared (uncentered):              0.076\n",
      "Method:                 Least Squares   F-statistic:                              54.12\n",
      "Date:                Mon, 16 Mar 2020   Prob (F-statistic):                   2.57e-238\n",
      "Time:                        16:50:06   Log-Likelihood:                         -93696.\n",
      "No. Observations:               14801   AIC:                                  1.874e+05\n",
      "Df Residuals:                   14778   BIC:                                  1.876e+05\n",
      "Df Model:                          23                                                  \n",
      "Covariance Type:            nonrobust                                                  \n",
      "==============================================================================\n",
      "                 coef    std err          t      P>|t|      [0.025      0.975]\n",
      "------------------------------------------------------------------------------\n",
      "x1            -0.7134      4.939     -0.144      0.885     -10.395       8.968\n",
      "x2            64.8057      4.435     14.611      0.000      56.112      73.500\n",
      "x3           -43.6843      5.971     -7.317      0.000     -55.387     -31.981\n",
      "x4           -58.6827      5.190    -11.307      0.000     -68.856     -48.510\n",
      "x5            51.3790      3.525     14.574      0.000      44.469      58.289\n",
      "x6            16.1580      3.695      4.373      0.000       8.916      23.400\n",
      "x7             4.8827      3.326      1.468      0.142      -1.637      11.402\n",
      "x8             8.6960      4.599      1.891      0.059      -0.319      17.711\n",
      "x9            -0.7211      3.608     -0.200      0.842      -7.794       6.352\n",
      "x10            1.9524      1.309      1.491      0.136      -0.614       4.519\n",
      "x11           41.7524      6.430      6.493      0.000      29.148      54.357\n",
      "x12           11.1419      3.531      3.155      0.002       4.220      18.063\n",
      "x13            2.1719      4.652      0.467      0.641      -6.947      11.291\n",
      "x14           -9.5714      3.696     -2.590      0.010     -16.816      -2.326\n",
      "x15           21.3263      3.144      6.782      0.000      15.163      27.490\n",
      "x16          -31.2090      3.229     -9.666      0.000     -37.538     -24.880\n",
      "x17          -43.9329      5.828     -7.538      0.000     -55.356     -32.510\n",
      "x18           -6.2383      2.863     -2.179      0.029     -11.850      -0.627\n",
      "x19          -44.8500     13.825     -3.244      0.001     -71.948     -17.752\n",
      "x20            1.3707      1.318      1.040      0.298      -1.212       3.954\n",
      "x21           -9.9716      8.003     -1.246      0.213     -25.659       5.716\n",
      "x22            5.3917      1.417      3.805      0.000       2.614       8.169\n",
      "x23           15.1823     10.660      1.424      0.154      -5.712      36.076\n",
      "==============================================================================\n",
      "Omnibus:                    10632.426   Durbin-Watson:                   0.967\n",
      "Prob(Omnibus):                  0.000   Jarque-Bera (JB):           165852.066\n",
      "Skew:                           3.379   Prob(JB):                         0.00\n",
      "Kurtosis:                      17.942   Cond. No.                         51.3\n",
      "==============================================================================\n",
      "\n",
      "Warnings:\n",
      "[1] Standard Errors assume that the covariance matrix of the errors is correctly specified.\n"
     ]
    }
   ],
   "source": [
    "print(lr.summary())"
   ]
  },
  {
   "cell_type": "code",
   "execution_count": null,
   "metadata": {},
   "outputs": [],
   "source": [
    "while lr.pvalues.max()>0.05:\n",
    "    X2_train=np.delete(X_train_sc,lr.pvalues.values.argmax(),axis=1)\n",
    "    X2_test=np.delete(X_test_sc ,lr.pvalues.values.argmax(),axis=1)\n",
    "    ols=sm.OLS(y_train,X_train)\n",
    "    lr=ols.fit()"
   ]
  },
  {
   "cell_type": "code",
   "execution_count": null,
   "metadata": {},
   "outputs": [],
   "source": [
    "print(lr.summary())"
   ]
  },
  {
   "cell_type": "markdown",
   "metadata": {},
   "source": [
    "# KNN REGRESSION"
   ]
  },
  {
   "cell_type": "code",
   "execution_count": 26,
   "metadata": {},
   "outputs": [],
   "source": [
    "X=df.drop('Appliances',axis=1)\n",
    "y=df['Appliances']"
   ]
  },
  {
   "cell_type": "code",
   "execution_count": 27,
   "metadata": {},
   "outputs": [],
   "source": [
    "#Splitting datasets\n",
    "from sklearn.model_selection import train_test_split\n",
    "X_train, X_test, y_train, y_test = train_test_split(X, y, random_state = 0)"
   ]
  },
  {
   "cell_type": "code",
   "execution_count": 59,
   "metadata": {},
   "outputs": [
    {
     "data": {
      "text/plain": [
       "GridSearchCV(cv=10, error_score='raise-deprecating',\n",
       "             estimator=KNeighborsRegressor(algorithm='auto', leaf_size=30,\n",
       "                                           metric='minkowski',\n",
       "                                           metric_params=None, n_jobs=None,\n",
       "                                           n_neighbors=5, p=2,\n",
       "                                           weights='uniform'),\n",
       "             iid='warn', n_jobs=None,\n",
       "             param_grid=[{'n_neighbors': [5, 10, 20, 30, 40, 50, 60, 70, 80, 90,\n",
       "                                          100],\n",
       "                          'weights': ['uniform']}],\n",
       "             pre_dispatch='2*n_jobs', refit=True, return_train_score=False,\n",
       "             scoring=None, verbose=0)"
      ]
     },
     "execution_count": 59,
     "metadata": {},
     "output_type": "execute_result"
    }
   ],
   "source": [
    "#grid search-best params\n",
    "\n",
    "from sklearn.neighbors import KNeighborsRegressor\n",
    "model=KNeighborsRegressor()\n",
    "parameters = [{'weights': ['uniform'], \n",
    "               'n_neighbors': [5, 10, 20, 30, 40, 50, 60, 70, 80, 90, 100]}]\n",
    "\n",
    "grid = GridSearchCV(model,parameters, cv=10)\n",
    "grid.fit(X_train, y_train)\n"
   ]
  },
  {
   "cell_type": "code",
   "execution_count": 60,
   "metadata": {},
   "outputs": [
    {
     "data": {
      "text/plain": [
       "{'n_neighbors': 5, 'weights': 'uniform'}"
      ]
     },
     "execution_count": 60,
     "metadata": {},
     "output_type": "execute_result"
    }
   ],
   "source": [
    "grid.best_params_"
   ]
  },
  {
   "cell_type": "code",
   "execution_count": 61,
   "metadata": {},
   "outputs": [
    {
     "data": {
      "text/plain": [
       "0.43155858850203266"
      ]
     },
     "execution_count": 61,
     "metadata": {},
     "output_type": "execute_result"
    }
   ],
   "source": [
    "grid.best_score_"
   ]
  },
  {
   "cell_type": "code",
   "execution_count": 62,
   "metadata": {},
   "outputs": [
    {
     "data": {
      "text/plain": [
       "0.034346943106204085"
      ]
     },
     "execution_count": 62,
     "metadata": {},
     "output_type": "execute_result"
    }
   ],
   "source": [
    "#get k fold stdv\n",
    "grid.cv_results_['std_test_score'][grid.best_index_]"
   ]
  },
  {
   "cell_type": "code",
   "execution_count": 31,
   "metadata": {},
   "outputs": [],
   "source": [
    "#Fitting K-NN to the Training set & making prediction\n",
    "from sklearn.neighbors import KNeighborsRegressor\n",
    "KNN_reg = KNeighborsRegressor(n_neighbors=5,weights='uniform')\n",
    "KNN_reg.fit(X_train_sc,y_train)\n",
    "y_pred = KNN_reg.predict(X_test_sc)"
   ]
  },
  {
   "cell_type": "code",
   "execution_count": 32,
   "metadata": {},
   "outputs": [],
   "source": [
    "#RMSE\n",
    "from sklearn.metrics import mean_squared_error\n",
    "from math import sqrt\n",
    "mse = mean_squared_error(y_test,y_pred)\n",
    "rmse = sqrt(mse)\n",
    "score = KNN_reg.score(X_test_sc, y_test)"
   ]
  },
  {
   "cell_type": "code",
   "execution_count": 33,
   "metadata": {},
   "outputs": [
    {
     "name": "stdout",
     "output_type": "stream",
     "text": [
      "R-Square :  0.47596924181585143\n",
      "Mean Square Error:  5503.256586947709\n",
      "Root Mean Square Error:  74.18393752658125\n"
     ]
    }
   ],
   "source": [
    "print(\"R-Square : \", score)\n",
    "print(\"Mean Square Error: \" ,mse)\n",
    "print(\"Root Mean Square Error: \" ,rmse)"
   ]
  },
  {
   "cell_type": "markdown",
   "metadata": {},
   "source": [
    "# RANDOM FOREST-REGRESSION MODEL"
   ]
  },
  {
   "cell_type": "code",
   "execution_count": 36,
   "metadata": {},
   "outputs": [],
   "source": [
    "#USING SAME DATA SET\n",
    "X=df.drop('Appliances',axis=1)\n",
    "y=df['Appliances']"
   ]
  },
  {
   "cell_type": "code",
   "execution_count": 37,
   "metadata": {},
   "outputs": [],
   "source": [
    "#Splitting datasets\n",
    "from sklearn.model_selection import train_test_split\n",
    "X_train, X_test, y_train, y_test = train_test_split(X, y, random_state = 0)"
   ]
  },
  {
   "cell_type": "code",
   "execution_count": 45,
   "metadata": {},
   "outputs": [],
   "source": [
    "#import libs\n",
    "from sklearn.ensemble import RandomForestRegressor"
   ]
  },
  {
   "cell_type": "code",
   "execution_count": 48,
   "metadata": {},
   "outputs": [
    {
     "data": {
      "text/plain": [
       "GridSearchCV(cv=10, error_score='raise-deprecating',\n",
       "             estimator=RandomForestRegressor(bootstrap=True, criterion='mse',\n",
       "                                             max_depth=None,\n",
       "                                             max_features='auto',\n",
       "                                             max_leaf_nodes=None,\n",
       "                                             min_impurity_decrease=0.0,\n",
       "                                             min_impurity_split=None,\n",
       "                                             min_samples_leaf=1,\n",
       "                                             min_samples_split=2,\n",
       "                                             min_weight_fraction_leaf=0.0,\n",
       "                                             n_estimators='warn', n_jobs=None,\n",
       "                                             oob_score=False, random_state=None,\n",
       "                                             verbose=0, warm_start=False),\n",
       "             iid='warn', n_jobs=None,\n",
       "             param_grid={'bootstrap': [True, False],\n",
       "                         'max_features': ['auto', 'log2', 'sqrt'],\n",
       "                         'n_estimators': [10, 50, 100]},\n",
       "             pre_dispatch='2*n_jobs', refit=True, return_train_score=False,\n",
       "             scoring=None, verbose=0)"
      ]
     },
     "execution_count": 48,
     "metadata": {},
     "output_type": "execute_result"
    }
   ],
   "source": [
    "estimator = RandomForestRegressor()\n",
    "para_grids = {\n",
    "            \"n_estimators\" : [10,50,100],\n",
    "            \"max_features\" : [\"auto\", \"log2\", \"sqrt\"],\n",
    "            \"bootstrap\"    : [True, False]\n",
    "        }\n",
    "grid = GridSearchCV(estimator,para_grids, cv=10)\n",
    "grid.fit(X_train, y_train)\n"
   ]
  },
  {
   "cell_type": "code",
   "execution_count": 54,
   "metadata": {},
   "outputs": [
    {
     "data": {
      "text/plain": [
       "{'bootstrap': False, 'max_features': 'log2', 'n_estimators': 100}"
      ]
     },
     "execution_count": 54,
     "metadata": {},
     "output_type": "execute_result"
    }
   ],
   "source": [
    "grid.best_params_"
   ]
  },
  {
   "cell_type": "code",
   "execution_count": 55,
   "metadata": {},
   "outputs": [
    {
     "data": {
      "text/plain": [
       "0.6014333185046434"
      ]
     },
     "execution_count": 55,
     "metadata": {},
     "output_type": "execute_result"
    }
   ],
   "source": [
    "grid.best_score_"
   ]
  },
  {
   "cell_type": "code",
   "execution_count": 56,
   "metadata": {},
   "outputs": [
    {
     "data": {
      "text/plain": [
       "0.02759579918620574"
      ]
     },
     "execution_count": 56,
     "metadata": {},
     "output_type": "execute_result"
    }
   ],
   "source": [
    "#get k fold stdv\n",
    "grid.cv_results_['std_test_score'][grid.best_index_]"
   ]
  },
  {
   "cell_type": "code",
   "execution_count": 28,
   "metadata": {},
   "outputs": [],
   "source": [
    "#import libs\n",
    "from sklearn.ensemble import RandomForestRegressor"
   ]
  },
  {
   "cell_type": "code",
   "execution_count": 52,
   "metadata": {},
   "outputs": [
    {
     "name": "stdout",
     "output_type": "stream",
     "text": [
      "Random Forest Regressor Score :  0.6338539880586809\n",
      "Random Forest RMSE :  62.009559424922244\n",
      "Random Forest MSE :  3845.185460072963\n"
     ]
    }
   ],
   "source": [
    "#Using Random Forest Regressor\n",
    "reg = RandomForestRegressor(bootstrap=False,max_features='log2',n_estimators=100)\n",
    "reg.fit(X_train, y_train)\n",
    "y_pred = reg.predict(X_test)\n",
    "print(\"Random Forest Regressor Score : \", reg.score(X_test, y_test))\n",
    "print(\"Random Forest RMSE : \", sqrt(mean_squared_error(y_test,y_pred)))\n",
    "print(\"Random Forest MSE : \",mean_squared_error(y_test,y_pred))"
   ]
  },
  {
   "cell_type": "code",
   "execution_count": null,
   "metadata": {},
   "outputs": [],
   "source": []
  },
  {
   "cell_type": "code",
   "execution_count": null,
   "metadata": {},
   "outputs": [],
   "source": [
    "#K fold corss validation\n",
    "from sklearn.model_selection import cross_val_score\n",
    "accuracies = cross_val_score(reg, X,y, cv=10)\n",
    "print(accuracies)\n",
    "print(accuracies.mean())\n",
    "print(accuracies.std())"
   ]
  },
  {
   "cell_type": "markdown",
   "metadata": {},
   "source": [
    "# SVR-REGRESSION"
   ]
  },
  {
   "cell_type": "code",
   "execution_count": 32,
   "metadata": {},
   "outputs": [],
   "source": [
    "X=df.drop('Appliances',axis=1)\n",
    "y=df['Appliances']"
   ]
  },
  {
   "cell_type": "code",
   "execution_count": 33,
   "metadata": {},
   "outputs": [],
   "source": [
    "#Splitting into test and train\n",
    "from sklearn.model_selection import train_test_split\n",
    "X_train, X_test, y_train, y_test = train_test_split(X,y,test_size=1/3, random_state=0)"
   ]
  },
  {
   "cell_type": "code",
   "execution_count": 34,
   "metadata": {},
   "outputs": [],
   "source": [
    "#PROJECTimport numpy as np\n",
    "from sklearn.svm import SVR\n",
    "from math import sqrt"
   ]
  },
  {
   "cell_type": "code",
   "execution_count": 38,
   "metadata": {},
   "outputs": [
    {
     "data": {
      "text/plain": [
       "SVR(C=1.0, cache_size=200, coef0=0.0, degree=1, epsilon=0.1,\n",
       "    gamma='auto_deprecated', kernel='poly', max_iter=-1, shrinking=True,\n",
       "    tol=0.001, verbose=False)"
      ]
     },
     "execution_count": 38,
     "metadata": {},
     "output_type": "execute_result"
    }
   ],
   "source": [
    "#Using Poly kernal with SVM\n",
    "reg = SVR(kernel ='poly', degree=1)\n",
    "reg.fit(X_train,y_train)"
   ]
  },
  {
   "cell_type": "code",
   "execution_count": 39,
   "metadata": {},
   "outputs": [],
   "source": [
    "#import libs\n",
    "from sklearn.ensemble import RandomForestRegressor"
   ]
  },
  {
   "cell_type": "code",
   "execution_count": 40,
   "metadata": {},
   "outputs": [],
   "source": [
    "y_pred = reg.predict(X_test)"
   ]
  },
  {
   "cell_type": "code",
   "execution_count": 41,
   "metadata": {},
   "outputs": [
    {
     "name": "stdout",
     "output_type": "stream",
     "text": [
      "R-square:  0.0008408050004988787\n",
      "Mean Square Error:  10965.756630026874\n",
      "Root Mean Square Error: 104.7175087080803\n"
     ]
    }
   ],
   "source": [
    "score = reg.score(X_test,y_test)\n",
    "mse = mean_squared_error(y_test,y_pred)\n",
    "rmse = sqrt(mse)\n",
    "print(\"R-square: \", score)\n",
    "print(\"Mean Square Error: \", mse)\n",
    "print(\"Root Mean Square Error:\", rmse)"
   ]
  },
  {
   "cell_type": "code",
   "execution_count": 42,
   "metadata": {},
   "outputs": [
    {
     "name": "stdout",
     "output_type": "stream",
     "text": [
      "K-fold Accuracy [-0.11179767  0.04994542 -0.01742273  0.00245555 -0.00464761  0.04238417\n",
      "  0.01011454  0.05509853  0.05733466 -0.00694915]\n",
      "K-fold Mean Accuracy 0.0076515714317672125\n",
      "Stdv K-fold 0.04796780565314209\n"
     ]
    }
   ],
   "source": [
    "#K fold corss validation\n",
    "from sklearn.model_selection import cross_val_score\n",
    "accuracies = cross_val_score(reg, X,y, cv=10)\n",
    "print('K-fold Accuracy',accuracies)\n",
    "print('K-fold Mean Accuracy',accuracies.mean())\n",
    "print('Stdv K-fold',accuracies.std())"
   ]
  },
  {
   "cell_type": "markdown",
   "metadata": {},
   "source": [
    "# ADABOOST-REGRESSION"
   ]
  },
  {
   "cell_type": "code",
   "execution_count": 43,
   "metadata": {},
   "outputs": [],
   "source": [
    "X=df.drop('Appliances',axis=1)\n",
    "y=df['Appliances']"
   ]
  },
  {
   "cell_type": "code",
   "execution_count": 44,
   "metadata": {},
   "outputs": [],
   "source": [
    "#Splitting into test and train\n",
    "from sklearn.model_selection import train_test_split\n",
    "X_train, X_test, y_train, y_test = train_test_split(X,y,test_size=1/3, random_state=0)\n",
    "rng = np.random.RandomState(0)"
   ]
  },
  {
   "cell_type": "code",
   "execution_count": 47,
   "metadata": {},
   "outputs": [],
   "source": [
    "# Fit regression model\n",
    "regr_1 = DecisionTreeRegressor(max_depth=4)\n",
    "regr_2 = AdaBoostRegressor(DecisionTreeRegressor(max_depth=4),\n",
    "                          n_estimators=300, random_state=rng)\n"
   ]
  },
  {
   "cell_type": "code",
   "execution_count": 48,
   "metadata": {},
   "outputs": [
    {
     "data": {
      "text/plain": [
       "AdaBoostRegressor(base_estimator=DecisionTreeRegressor(criterion='mse',\n",
       "                                                       max_depth=4,\n",
       "                                                       max_features=None,\n",
       "                                                       max_leaf_nodes=None,\n",
       "                                                       min_impurity_decrease=0.0,\n",
       "                                                       min_impurity_split=None,\n",
       "                                                       min_samples_leaf=1,\n",
       "                                                       min_samples_split=2,\n",
       "                                                       min_weight_fraction_leaf=0.0,\n",
       "                                                       presort=False,\n",
       "                                                       random_state=None,\n",
       "                                                       splitter='best'),\n",
       "                  learning_rate=1.0, loss='linear', n_estimators=300,\n",
       "                  random_state=<mtrand.RandomState object at 0x000001A3250929F8>)"
      ]
     },
     "execution_count": 48,
     "metadata": {},
     "output_type": "execute_result"
    }
   ],
   "source": [
    "regr_1.fit(X_train, y_train)\n",
    "regr_2.fit(X_train, y_train)"
   ]
  },
  {
   "cell_type": "code",
   "execution_count": 49,
   "metadata": {},
   "outputs": [],
   "source": [
    "# Predict\n",
    "y_1 = regr_1.predict(X_test)\n",
    "y_2 = regr_2.predict(X_test)"
   ]
  },
  {
   "cell_type": "code",
   "execution_count": 50,
   "metadata": {},
   "outputs": [
    {
     "name": "stdout",
     "output_type": "stream",
     "text": [
      "R-square:  -4.177871565206527\n",
      "Mean Square Error:  56827.05992173694\n",
      "Root Mean Square Error: 238.3842694511048\n"
     ]
    }
   ],
   "source": [
    "score = regr_2.score(X_test,y_test)\n",
    "mse = mean_squared_error(y_test,y_2)\n",
    "rmse = sqrt(mse)\n",
    "print(\"R-square: \", score)\n",
    "print(\"Mean Square Error: \", mse)\n",
    "print(\"Root Mean Square Error:\", rmse)"
   ]
  },
  {
   "cell_type": "code",
   "execution_count": 53,
   "metadata": {},
   "outputs": [
    {
     "name": "stdout",
     "output_type": "stream",
     "text": [
      "K-fold Accuracy [-0.25341379 -5.91536757 -6.16576534 -3.10858836 -4.23331978 -6.2753169\n",
      " -2.34827747 -8.78150095 -7.69437093 -9.28533273]\n",
      "K-fold Mean Accuracy -5.406125381770297\n",
      "Stdv K-fold 2.7536225570737667\n"
     ]
    }
   ],
   "source": [
    "#K fold corss validation\n",
    "from sklearn.model_selection import cross_val_score\n",
    "accuracies = cross_val_score(regr_2, X,y, cv=10)\n",
    "print('K-fold Accuracy',accuracies)\n",
    "print('K-fold Mean Accuracy',accuracies.mean())\n",
    "print('Stdv K-fold',accuracies.std())"
   ]
  },
  {
   "cell_type": "code",
   "execution_count": 52,
   "metadata": {},
   "outputs": [
    {
     "data": {
      "text/plain": [
       "array([0.01912405, 0.10636328, 0.04261263, 0.07253478, 0.07074625,\n",
       "       0.05327121, 0.02822376, 0.02944033, 0.03228001, 0.10363493,\n",
       "       0.01525536, 0.03883946, 0.01867346, 0.02270336, 0.03251732,\n",
       "       0.02523322, 0.01756489, 0.02710558, 0.02929789, 0.07900279,\n",
       "       0.06447291, 0.02034926, 0.05075329])"
      ]
     },
     "execution_count": 52,
     "metadata": {},
     "output_type": "execute_result"
    }
   ],
   "source": [
    "regr_2.feature_importances_"
   ]
  },
  {
   "cell_type": "code",
   "execution_count": null,
   "metadata": {},
   "outputs": [],
   "source": []
  }
 ],
 "metadata": {
  "kernelspec": {
   "display_name": "Python 3",
   "language": "python",
   "name": "python3"
  },
  "language_info": {
   "codemirror_mode": {
    "name": "ipython",
    "version": 3
   },
   "file_extension": ".py",
   "mimetype": "text/x-python",
   "name": "python",
   "nbconvert_exporter": "python",
   "pygments_lexer": "ipython3",
   "version": "3.7.4"
  }
 },
 "nbformat": 4,
 "nbformat_minor": 2
}
